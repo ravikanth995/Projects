{
  "nbformat": 4,
  "nbformat_minor": 0,
  "metadata": {
    "colab": {
      "provenance": [],
      "authorship_tag": "ABX9TyOEQtgnmep1oJdRIfXIkMkb",
      "include_colab_link": true
    },
    "kernelspec": {
      "name": "python3",
      "display_name": "Python 3"
    },
    "language_info": {
      "name": "python"
    }
  },
  "cells": [
    {
      "cell_type": "markdown",
      "metadata": {
        "id": "view-in-github",
        "colab_type": "text"
      },
      "source": [
        "<a href=\"https://colab.research.google.com/github/ravikanth995/Projects/blob/master/SI_CI_both.ipynb\" target=\"_parent\"><img src=\"https://colab.research.google.com/assets/colab-badge.svg\" alt=\"Open In Colab\"/></a>"
      ]
    },
    {
      "cell_type": "code",
      "execution_count": null,
      "metadata": {
        "id": "hSeLqjUUZ99H"
      },
      "outputs": [],
      "source": [
        "from tkinter import *\n",
        "from tkinter import Tk\n",
        "root=Tk()\n",
        "root.title(\"Simple Interest Calculator\")\n",
        "root.maxsize(600,300)\n",
        "root.minsize(600,300)\n",
        "\n",
        "def both():\n",
        "    p=float(principalEntry.get())\n",
        "    r=float(rateEntry.get())\n",
        "    t=float(timeEntry.get())\n",
        "    Simple_Interest=(p*r*t)/100\n",
        "    Label(text=f\"Simple Intetest is:{Simple_Interest}\",font=\"arial 15\").place(x=15,y=200)\n",
        "    CI=p * (pow((1 + r / 100), t))\n",
        "    Label(text=f\"Compound Interest is {CI}\",font=\"arial 15\").place(x=15,y=250)\n",
        "\n",
        "def caluclatesi():\n",
        "    p=int(principalEntry.get())\n",
        "    r=float(rateEntry.get())\n",
        "    t=int(timeEntry.get())\n",
        "    Simple_Interest=(p*r*t)/100\n",
        "    Label(text=f\"Simple Intetest is:{Simple_Interest}\",font=\"arial 15\").place(x=15,y=200)\n",
        "\n",
        "def Ci():\n",
        "    p=int(principalEntry.get())\n",
        "    r=float(rateEntry.get())\n",
        "    t=int(timeEntry.get())\n",
        "    CI=p * (pow((1 + r / 100), t))\n",
        "    Label(text=f\"Compound Interest is {CI}\",font=\"arial 15\").place(x=15,y=250)\n",
        "\n",
        "principal=Label(root,text=\"Principal\",font=\"arial 15\")\n",
        "rate=Label(root,text=\"Rate of Interest\",font=\"arial 15\")\n",
        "time=Label(root,text=\"Time Period\",font=\"arial 15\")\n",
        "\n",
        "principal.place(x=10,y=15)\n",
        "rate.place(x=10,y=70)\n",
        "time.place(x=10,y=130)\n",
        "\n",
        "siInterest=Label(text=\"SImple Interest\",font=\"arial 15\")\n",
        "siInterest.place(x=15,y=440)\n",
        "\n",
        "\n",
        "principalVal=StringVar()\n",
        "rateVar=StringVar()\n",
        "timeVar=StringVar()\n",
        "\n",
        "principalEntry=Entry(root,textvariable=principalVal,font=\"arial 20\",width=8)\n",
        "principalEntry.place(x=180,y=15)\n",
        "\n",
        "rateEntry=Entry(root,textvariable=rateVar,width=8,font=\"arial 20\")\n",
        "rateEntry.place(x=180,y=70)\n",
        "\n",
        "timeEntry=Entry(root,textvariable=timeVar,font=\"arial 20\",width=8)\n",
        "timeEntry.place(x=180,y=130)\n",
        "\n",
        "\n",
        "sicalbtn=Button(root,text=\"Calculate SI\",font=\"arial 15\",command=caluclatesi).place(x=360,y=15)\n",
        "cibtn=Button(root,text=\"Calculate CI\",font=\"arial 15\",command=Ci).place(x=360,y=80)\n",
        "\n",
        "si_ci=Button(root,text=\"SI and CI\",font=\"arial 15\",command=both,width=10).place(x=360,y=150)\n",
        "\n",
        "extbtn=Button(root,text=\"Exit\",font=\"arial 15\",width=6,command=root.destroy).place(x=460,y=240)\n",
        "root.mainloop()"
      ]
    }
  ]
}