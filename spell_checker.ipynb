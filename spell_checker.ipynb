{
  "nbformat": 4,
  "nbformat_minor": 0,
  "metadata": {
    "colab": {
      "provenance": [],
      "authorship_tag": "ABX9TyNVVm4BpYP62sfgm6Yt7w2J",
      "include_colab_link": true
    },
    "kernelspec": {
      "name": "python3",
      "display_name": "Python 3"
    },
    "language_info": {
      "name": "python"
    }
  },
  "cells": [
    {
      "cell_type": "markdown",
      "metadata": {
        "id": "view-in-github",
        "colab_type": "text"
      },
      "source": [
        "<a href=\"https://colab.research.google.com/github/ravikanth995/Projects/blob/master/spell_checker.ipynb\" target=\"_parent\"><img src=\"https://colab.research.google.com/assets/colab-badge.svg\" alt=\"Open In Colab\"/></a>"
      ]
    },
    {
      "cell_type": "code",
      "execution_count": null,
      "metadata": {
        "id": "cHsfuZ6aa5yL"
      },
      "outputs": [],
      "source": [
        "from tkinter import *\n",
        "from tkinter.scrolledtext import ScrolledText\n",
        "from textblob import TextBlob\n",
        "class Spell:\n",
        "    def check(self,event):\n",
        "        # print(\"Key is Pressed\")\n",
        "        content=self.text.get(\"1.0\",END)\n",
        "        full_stop_count=content.count(\".\")\n",
        "        if self.fullStop!=full_stop_count:\n",
        "            self.fullStop=full_stop_count\n",
        "            for word in content.split(\".\"):\n",
        "                self.text.delete(\"1.0\",END)\n",
        "                correct_spell=TextBlob(content)\n",
        "                self.text.insert(1.0,correct_spell.correct())\n",
        "                print(word)\n",
        "\n",
        "\n",
        "    def __init__(self,window):\n",
        "        self.text=ScrolledText(window)\n",
        "        self.text.bind(\"<KeyRelease>\",self.check)\n",
        "        self.text.pack()\n",
        "        self.fullStop=0\n",
        "\n",
        "\n",
        "root=Tk()\n",
        "root.title(\"Spell Checker\")\n",
        "gui=Spell(root)\n",
        "root.maxsize(290,400)\n",
        "root.mainloop()"
      ]
    }
  ]
}